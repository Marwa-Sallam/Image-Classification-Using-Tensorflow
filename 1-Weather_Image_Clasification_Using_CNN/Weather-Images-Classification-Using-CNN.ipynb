{
 "cells": [
  {
   "cell_type": "code",
   "execution_count": 1,
   "metadata": {},
   "outputs": [],
   "source": [
    "import matplotlib.pyplot as plt"
   ]
  },
  {
   "cell_type": "code",
   "execution_count": 22,
   "metadata": {},
   "outputs": [
    {
     "name": "stdout",
     "output_type": "stream",
     "text": [
      "Found 901 images belonging to 4 classes.\n",
      "Found 224 images belonging to 4 classes.\n"
     ]
    }
   ],
   "source": [
    "datagenerator=tf.keras.preprocessing.image.ImageDataGenerator(\n",
    "                                                              rescale=1./255,\n",
    "                                                   validation_split=0.2)\n",
    "\n",
    "train_generator = datagenerator.flow_from_directory(directory='Dataset',\n",
    "                                               subset='training' ,\n",
    "                                              batch_size=32,\n",
    "                                              target_size=(128,128),\n",
    "                                              color_mode='rgb',\n",
    "                                              shuffle=True)\n",
    "\n",
    "validation_generator  = datagenerator.flow_from_directory(directory='Dataset',\n",
    "                                              subset='validation' ,\n",
    "                                              batch_size=32,\n",
    "                                              target_size=(128,128),\n",
    "                                              color_mode='rgb',\n",
    "                                                    shuffle=True)"
   ]
  },
  {
   "cell_type": "code",
   "execution_count": 4,
   "metadata": {},
   "outputs": [
    {
     "name": "stdout",
     "output_type": "stream",
     "text": [
      "{'Cloudy': 0, 'Rain': 1, 'Shine': 2, 'Sunnrise': 3}\n"
     ]
    }
   ],
   "source": [
    "print(train_generator.class_indices)"
   ]
  },
  {
   "cell_type": "markdown",
   "metadata": {},
   "source": [
    "# CNN Model"
   ]
  },
  {
   "cell_type": "code",
   "execution_count": 23,
   "metadata": {},
   "outputs": [],
   "source": [
    "import tensorflow as tf \n",
    "from tensorflow import keras\n",
    "from tensorflow.keras.models import Sequential\n",
    "from tensorflow.keras.layers import Dense, Dropout, Flatten\n",
    "from tensorflow.keras.layers import Conv2D\n",
    "from tensorflow.keras.layers import MaxPooling2D"
   ]
  },
  {
   "cell_type": "code",
   "execution_count": 36,
   "metadata": {},
   "outputs": [
    {
     "name": "stdout",
     "output_type": "stream",
     "text": [
      "Model: \"sequential_10\"\n",
      "_________________________________________________________________\n",
      " Layer (type)                Output Shape              Param #   \n",
      "=================================================================\n",
      " conv2d_35 (Conv2D)          (None, 126, 126, 16)      448       \n",
      "                                                                 \n",
      " conv2d_36 (Conv2D)          (None, 124, 124, 16)      2320      \n",
      "                                                                 \n",
      " max_pooling2d_20 (MaxPoolin  (None, 62, 62, 16)       0         \n",
      " g2D)                                                            \n",
      "                                                                 \n",
      " dropout_30 (Dropout)        (None, 62, 62, 16)        0         \n",
      "                                                                 \n",
      " conv2d_37 (Conv2D)          (None, 60, 60, 32)        4640      \n",
      "                                                                 \n",
      " max_pooling2d_21 (MaxPoolin  (None, 30, 30, 32)       0         \n",
      " g2D)                                                            \n",
      "                                                                 \n",
      " dropout_31 (Dropout)        (None, 30, 30, 32)        0         \n",
      "                                                                 \n",
      " flatten_10 (Flatten)        (None, 28800)             0         \n",
      "                                                                 \n",
      " dense_30 (Dense)            (None, 64)                1843264   \n",
      "                                                                 \n",
      " dense_31 (Dense)            (None, 32)                2080      \n",
      "                                                                 \n",
      " dropout_32 (Dropout)        (None, 32)                0         \n",
      "                                                                 \n",
      " dense_32 (Dense)            (None, 4)                 132       \n",
      "                                                                 \n",
      " module_wrapper_10 (ModuleWr  (None, 4)                0         \n",
      " apper)                                                          \n",
      "                                                                 \n",
      "=================================================================\n",
      "Total params: 1,852,884\n",
      "Trainable params: 1,852,884\n",
      "Non-trainable params: 0\n",
      "_________________________________________________________________\n"
     ]
    }
   ],
   "source": [
    "model=Sequential()\n",
    "model.add( tf.keras.layers.Conv2D(16,(3,3),input_shape = ( 128,128,3 ), activation= 'relu')) \n",
    "model.add(Conv2D(16,(3,3), activation= 'relu'))\n",
    "\n",
    "\n",
    "model.add( MaxPooling2D(pool_size = (2,2) ))\n",
    "model.add(Dropout(rate=0.25))\n",
    "model.add(Conv2D(32,(3,3), activation= 'relu' )) \n",
    " \n",
    "\n",
    "model.add( MaxPooling2D(pool_size = (2,2) ))\n",
    "model.add(Dropout(rate=0.4))\n",
    "\n",
    "model.add( Flatten() )\n",
    "\n",
    "model.add( Dense(units=64,activation= 'relu') )\n",
    "model.add( Dense(units=32,activation= 'relu') )\n",
    "model.add(Dropout(rate=0.5))\n",
    "model.add( Dense( 4 ) )\n",
    "model.add( Activation( 'softmax' ) )\n",
    "model.summary()"
   ]
  },
  {
   "cell_type": "code",
   "execution_count": 37,
   "metadata": {},
   "outputs": [],
   "source": [
    "model.compile(loss = 'categorical_crossentropy', optimizer = 'adam', metrics = ['accuracy'] )"
   ]
  },
  {
   "cell_type": "code",
   "execution_count": 38,
   "metadata": {},
   "outputs": [
    {
     "name": "stdout",
     "output_type": "stream",
     "text": [
      "Epoch 1/10\n",
      "29/29 [==============================] - 33s 1s/step - loss: 1.1679 - accuracy: 0.4584 - val_loss: 0.9070 - val_accuracy: 0.5982\n",
      "Epoch 2/10\n",
      "29/29 [==============================] - 32s 1s/step - loss: 0.8344 - accuracy: 0.6149 - val_loss: 0.7010 - val_accuracy: 0.6964\n",
      "Epoch 3/10\n",
      "29/29 [==============================] - 30s 1s/step - loss: 0.7868 - accuracy: 0.6471 - val_loss: 0.7011 - val_accuracy: 0.8036\n",
      "Epoch 4/10\n",
      "29/29 [==============================] - 28s 949ms/step - loss: 0.6672 - accuracy: 0.6715 - val_loss: 0.5883 - val_accuracy: 0.7679\n",
      "Epoch 5/10\n",
      "29/29 [==============================] - 27s 921ms/step - loss: 0.6256 - accuracy: 0.7248 - val_loss: 0.5839 - val_accuracy: 0.7857\n",
      "Epoch 6/10\n",
      "29/29 [==============================] - 27s 929ms/step - loss: 0.5962 - accuracy: 0.7825 - val_loss: 0.5315 - val_accuracy: 0.8214\n",
      "Epoch 7/10\n",
      "29/29 [==============================] - 27s 912ms/step - loss: 0.5123 - accuracy: 0.8335 - val_loss: 0.4947 - val_accuracy: 0.8170\n",
      "Epoch 8/10\n",
      "29/29 [==============================] - 27s 927ms/step - loss: 0.4283 - accuracy: 0.8391 - val_loss: 0.4874 - val_accuracy: 0.8214\n",
      "Epoch 9/10\n",
      "29/29 [==============================] - 27s 948ms/step - loss: 0.3997 - accuracy: 0.8779 - val_loss: 0.3737 - val_accuracy: 0.8438\n",
      "Epoch 10/10\n",
      "29/29 [==============================] - 27s 934ms/step - loss: 0.3263 - accuracy: 0.9012 - val_loss: 0.3310 - val_accuracy: 0.8705\n"
     ]
    }
   ],
   "source": [
    "epochs=10                       \n",
    "history=model.fit( train_generator,  batch_size=32,\n",
    "    validation_data = validation_generator, \n",
    "    epochs =epochs )"
   ]
  },
  {
   "cell_type": "code",
   "execution_count": 9,
   "metadata": {},
   "outputs": [
    {
     "data": {
      "image/png": "[encoded data removed]",
      "text/plain": [
       "<Figure size 432x288 with 1 Axes>"
      ]
     },
     "metadata": {
      "needs_background": "light"
     },
     "output_type": "display_data"
    },
    {
     "data": {
      "image/png": "[encoded data removed]",
      "text/plain": [
       "<Figure size 432x288 with 1 Axes>"
      ]
     },
     "metadata": {
      "needs_background": "light"
     },
     "output_type": "display_data"
    }
   ],
   "source": [
    "# summarize history for accuracy\n",
    "plt.plot(history.history['accuracy'])\n",
    "plt.plot(history.history['val_accuracy'])\n",
    "plt.title('model accuracy')\n",
    "plt.ylabel('accuracy')\n",
    "plt.xlabel('epoch')\n",
    "plt.legend(['Train', 'Validation'], loc='upper left')\n",
    "plt.show()\n",
    "\n",
    "# summarize history for loss\n",
    "plt.plot(history.history['loss'])\n",
    "plt.plot(history.history['val_loss'])\n",
    "plt.title('model loss')\n",
    "plt.ylabel('loss')\n",
    "plt.xlabel('epoch')\n",
    "plt.legend(['Train', 'Validation'], loc='upper left')\n",
    "plt.show()"
   ]
  },
  {
   "cell_type": "markdown",
   "metadata": {},
   "source": [
    "# Model Evaluation"
   ]
  },
  {
   "cell_type": "code",
   "execution_count": 41,
   "metadata": {},
   "outputs": [
    {
     "name": "stdout",
     "output_type": "stream",
     "text": [
      "7/7 [==============================] - 4s 550ms/step - loss: 0.3310 - accuracy: 0.8705\n",
      "Validation Loss = 0.33103635907173157\n",
      "Validation Accuracy = 0.8705357313156128\n"
     ]
    }
   ],
   "source": [
    "loss,acc=model.evaluate( validation_generator)\n",
    "print(\"Validation Loss =\",loss)\n",
    "print(\"Validation Accuracy =\",acc)"
   ]
  },
  {
   "cell_type": "code",
   "execution_count": null,
   "metadata": {},
   "outputs": [],
   "source": []
  }
 ],
 "metadata": {
  "kernelspec": {
   "display_name": "Python 3",
   "language": "python",
   "name": "python3"
  },
  "language_info": {
   "codemirror_mode": {
    "name": "ipython",
    "version": 3
   },
   "file_extension": ".py",
   "mimetype": "text/x-python",
   "name": "python",
   "nbconvert_exporter": "python",
   "pygments_lexer": "ipython3",
   "version": "3.8.3"
  }
 },
 "nbformat": 4,
 "nbformat_minor": 4
}
